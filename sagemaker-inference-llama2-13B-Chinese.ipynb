{
 "cells": [
  {
   "cell_type": "markdown",
   "id": "1ae65fec",
   "metadata": {
    "tags": []
   },
   "source": [
    "# Deploy the llama2-13b chinese fine tuned model on Amazon SageMaker\n",
    "\n",
    "As we have finetuned the model, next we will show you how to deploy the model on SageMaker.\n",
    "\n",
    "In this notebook, we explore how to host a large language model on SageMaker using the [Large Model Inference](https://docs.aws.amazon.com/sagemaker/latest/dg/realtime-endpoints-large-model-inference.html) container that is optimized for hosting large models using DJLServing. DJLServing is a high-performance universal model serving solution powered by the Deep Java Library (DJL) that is programming language agnostic. To learn more about DJL and DJLServing, you can refer to our recent [blog post](https://aws.amazon.com/blogs/machine-learning/deploy-large-models-on-amazon-sagemaker-using-djlserving-and-deepspeed-model-parallel-inference/)."
   ]
  },
  {
   "cell_type": "markdown",
   "id": "e2407531",
   "metadata": {},
   "source": [
    "## Create a SageMaker Model for Deployment\n",
    "As a first step, we'll import the relevant libraries and configure several global variables such as the hosting image that will be used nd the S3 location of our model artifacts"
   ]
  },
  {
   "cell_type": "code",
   "execution_count": 1,
   "id": "dd75ac31-711d-4fbd-81c8-0d21e76d872b",
   "metadata": {
    "tags": []
   },
   "outputs": [],
   "source": [
    "import sagemaker\n",
    "from sagemaker.model import Model\n",
    "from sagemaker import serializers, deserializers\n",
    "from sagemaker import image_uris\n",
    "import boto3\n",
    "import os\n",
    "import time\n",
    "import json\n",
    "import jinja2\n",
    "from pathlib import Path"
   ]
  },
  {
   "cell_type": "code",
   "execution_count": 2,
   "id": "24862c4a",
   "metadata": {
    "tags": []
   },
   "outputs": [
    {
     "name": "stderr",
     "output_type": "stream",
     "text": [
      "/home/ec2-user/anaconda3/envs/amazonei_pytorch_latest_p37/lib/python3.7/site-packages/boto3/compat.py:82: PythonDeprecationWarning: Boto3 will no longer support Python 3.7 starting December 13, 2023. To continue receiving service updates, bug fixes, and security updates please upgrade to Python 3.8 or later. More information can be found here: https://aws.amazon.com/blogs/developer/python-support-policy-updates-for-aws-sdks-and-tools/\n",
      "  warnings.warn(warning, PythonDeprecationWarning)\n"
     ]
    }
   ],
   "source": [
    "role = sagemaker.get_execution_role()  # execution role for the endpoint\n",
    "sess = sagemaker.session.Session()  # sagemaker session for interacting with different AWS APIs\n",
    "bucket = sess.default_bucket()  # bucket to house artifacts\n",
    "\n",
    "region = sess._region_name # region name of the current SageMaker Studio environment\n",
    "account_id = sess.account_id()  # account_id of the current SageMaker Studio environment\n",
    "\n",
    "s3_client = boto3.client(\"s3\") # client to intreract with S3 API\n",
    "sm_client = boto3.client(\"sagemaker\")  # client to intreract with SageMaker\n",
    "smr_client = boto3.client(\"sagemaker-runtime\") # client to intreract with SageMaker Endpoints\n",
    "jinja_env = jinja2.Environment() # jinja environment to generate model configuration templates"
   ]
  },
  {
   "cell_type": "markdown",
   "id": "29aec093",
   "metadata": {},
   "source": [
    "## Build the inference contianer image"
   ]
  },
  {
   "cell_type": "code",
   "execution_count": 86,
   "id": "7b814406",
   "metadata": {
    "tags": []
   },
   "outputs": [
    {
     "name": "stdout",
     "output_type": "stream",
     "text": [
      "Overwriting Dockerfile.inference\n"
     ]
    }
   ],
   "source": [
    "%%writefile Dockerfile.inference\n",
    "## You should change below region code to the region you used, here sample is use us-west-2\n",
    "#From 763104351884.dkr.ecr.us-west-2.amazonaws.com/djl-inference:0.23.1-deepspeed0.9.2-cu118\n",
    "From 763104351884.dkr.ecr.us-west-2.amazonaws.com/djl-inference:0.23.0-deepspeed0.9.5-cu118\n",
    "#From 763104351884.dkr.ecr.us-west-2.amazonaws.com/djl-inference:0.21.0-deepspeed0.8.3-cu117 \n",
    "\n",
    "ENV LANG=C.UTF-8\n",
    "ENV PYTHONUNBUFFERED=TRUE\n",
    "ENV PYTHONDONTWRITEBYTECODE=TRUE\n",
    "\n",
    "## Install transfomers version which support LLaMaTokenizer\n",
    "#RUN python3 -m pip install git+https://github.com/huggingface/transformers.git@68d640f7c368bcaaaecfc678f11908ebbd3d6176\n",
    "## Install transfomers version which support vicuna v1.1 LLaMaTokenizer\n",
    "RUN python3 -m pip install transformers==4.30.2\n",
    "#RUN python3 -m pip install git+https://github.com/lanking520/DeepSpeed.git@falcon\n",
    "\n",
    "## Make all local GPUs visible\n",
    "ENV NVIDIA_VISIBLE_DEVICES=\"all\""
   ]
  },
  {
   "cell_type": "code",
   "execution_count": 87,
   "id": "465b7a51",
   "metadata": {
    "tags": []
   },
   "outputs": [
    {
     "name": "stdout",
     "output_type": "stream",
     "text": [
      "WARNING! Your password will be stored unencrypted in /home/ec2-user/.docker/config.json.\n",
      "Configure a credential helper to remove this warning. See\n",
      "https://docs.docker.com/engine/reference/commandline/login/#credentials-store\n",
      "\n",
      "Login Succeeded\n"
     ]
    }
   ],
   "source": [
    "## You should change below region code to the region you used, here sample is use us-west-2\n",
    "!aws ecr get-login-password --region us-west-2 | docker login --username AWS --password-stdin 763104351884.dkr.ecr.us-west-2.amazonaws.com"
   ]
  },
  {
   "cell_type": "code",
   "execution_count": 12,
   "id": "351f761d",
   "metadata": {
    "tags": []
   },
   "outputs": [],
   "source": [
    "## define repo name, should contain *sagemaker* in the name\n",
    "repo_name = \"sagemaker-llama2-13b-chinese-inference-demo\""
   ]
  },
  {
   "cell_type": "code",
   "execution_count": 89,
   "id": "4a58a7ce",
   "metadata": {
    "tags": []
   },
   "outputs": [
    {
     "name": "stdout",
     "output_type": "stream",
     "text": [
      "Login Succeeded\n",
      "Sending build context to Docker daemon  49.13GB\n",
      "Step 1/6 : From 763104351884.dkr.ecr.us-west-2.amazonaws.com/djl-inference:0.23.0-deepspeed0.9.5-cu118\n",
      " ---> a4515b81505b\n",
      "Step 2/6 : ENV LANG=C.UTF-8\n",
      " ---> Using cache\n",
      " ---> 57b814a63c1c\n",
      "Step 3/6 : ENV PYTHONUNBUFFERED=TRUE\n",
      " ---> Using cache\n",
      " ---> 353ffb632ace\n",
      "Step 4/6 : ENV PYTHONDONTWRITEBYTECODE=TRUE\n",
      " ---> Using cache\n",
      " ---> 072e2ee21c51\n",
      "Step 5/6 : RUN python3 -m pip install transformers==4.30.2\n",
      " ---> Using cache\n",
      " ---> a9f148b3e05a\n",
      "Step 6/6 : ENV NVIDIA_VISIBLE_DEVICES=\"all\"\n",
      " ---> Using cache\n",
      " ---> b88d0cb3f10a\n",
      "Successfully built b88d0cb3f10a\n",
      "Successfully tagged sagemaker-llama2-13b-chinese-inference-demo:latest\n",
      "The push refers to repository [687912291502.dkr.ecr.us-west-2.amazonaws.com/sagemaker-llama2-13b-chinese-inference-demo]\n",
      "aa3fb0261bc7: Preparing\n",
      "8232c22b63e4: Preparing\n",
      "08f3a337b655: Preparing\n",
      "49cbf9c77aed: Preparing\n",
      "48878ad231c8: Preparing\n",
      "ecbe7b57a5a3: Preparing\n",
      "d50b7a306b3a: Preparing\n",
      "1e85726aa032: Preparing\n",
      "d2f28d242dff: Preparing\n",
      "63944adf2d91: Preparing\n",
      "2f7812b2bcfe: Preparing\n",
      "5516a107ea4b: Preparing\n",
      "5f73babe0dd6: Preparing\n",
      "914a68a70f7f: Preparing\n",
      "2556f07cfd83: Preparing\n",
      "d86b654bb9f9: Preparing\n",
      "93b76ad9c95e: Preparing\n",
      "a2fdb4e1ecd1: Preparing\n",
      "0ceb5c845fcf: Preparing\n",
      "ecbe7b57a5a3: Waiting\n",
      "d50b7a306b3a: Waiting\n",
      "6426a7216f78: Preparing\n",
      "ec66d8cea54a: Preparing\n",
      "1e85726aa032: Waiting\n",
      "d2f28d242dff: Waiting\n",
      "63944adf2d91: Waiting\n",
      "2f7812b2bcfe: Waiting\n",
      "914a68a70f7f: Waiting\n",
      "6426a7216f78: Waiting\n",
      "0ceb5c845fcf: Waiting\n",
      "5516a107ea4b: Waiting\n",
      "a2fdb4e1ecd1: Waiting\n",
      "d86b654bb9f9: Waiting\n",
      "93b76ad9c95e: Waiting\n",
      "5f73babe0dd6: Waiting\n",
      "2556f07cfd83: Waiting\n",
      "ec66d8cea54a: Waiting\n",
      "49cbf9c77aed: Layer already exists\n",
      "aa3fb0261bc7: Layer already exists\n",
      "48878ad231c8: Layer already exists\n",
      "8232c22b63e4: Layer already exists\n",
      "08f3a337b655: Layer already exists\n",
      "ecbe7b57a5a3: Layer already exists\n",
      "d2f28d242dff: Layer already exists\n",
      "1e85726aa032: Layer already exists\n",
      "63944adf2d91: Layer already exists\n",
      "d50b7a306b3a: Layer already exists\n",
      "2f7812b2bcfe: Layer already exists\n",
      "5516a107ea4b: Layer already exists\n",
      "5f73babe0dd6: Layer already exists\n",
      "914a68a70f7f: Layer already exists\n",
      "2556f07cfd83: Layer already exists\n",
      "d86b654bb9f9: Layer already exists\n",
      "93b76ad9c95e: Layer already exists\n",
      "a2fdb4e1ecd1: Layer already exists\n",
      "0ceb5c845fcf: Layer already exists\n",
      "6426a7216f78: Layer already exists\n",
      "ec66d8cea54a: Layer already exists\n",
      "latest: digest: sha256:141ad678cddb2e52f60db2092c54900e949a0d05fb60d41b82c9d739a04580d6 size: 4715\n"
     ]
    },
    {
     "name": "stderr",
     "output_type": "stream",
     "text": [
      "WARNING! Your password will be stored unencrypted in /home/ec2-user/.docker/config.json.\n",
      "Configure a credential helper to remove this warning. See\n",
      "https://docs.docker.com/engine/reference/commandline/login/#credentials-store\n",
      "\n"
     ]
    }
   ],
   "source": [
    "%%script env repo_name=$repo_name bash\n",
    "\n",
    "#!/usr/bin/env bash\n",
    "\n",
    "# This script shows how to build the Docker image and push it to ECR to be ready for use\n",
    "# by SageMaker.\n",
    "\n",
    "# The argument to this script is the image name. This will be used as the image on the local\n",
    "# machine and combined with the account and region to form the repository name for ECR.\n",
    "# The name of our algorithm\n",
    "algorithm_name=${repo_name}\n",
    "\n",
    "account=$(aws sts get-caller-identity --query Account --output text)\n",
    "\n",
    "# Get the region defined in the current configuration (default to us-west-2 if none defined)\n",
    "region=$(aws configure get region)\n",
    "region=${region:-us-west-2}\n",
    "\n",
    "fullname=\"${account}.dkr.ecr.${region}.amazonaws.com/${algorithm_name}:latest\"\n",
    "\n",
    "# If the repository doesn't exist in ECR, create it.\n",
    "aws ecr describe-repositories --repository-names \"${algorithm_name}\" > /dev/null 2>&1\n",
    "\n",
    "if [ $? -ne 0 ]\n",
    "then\n",
    "    aws ecr create-repository --repository-name \"${algorithm_name}\" > /dev/null\n",
    "fi\n",
    "\n",
    "# Get the login command from ECR and execute it directly\n",
    "aws ecr get-login-password --region ${region}|docker login --username AWS --password-stdin ${fullname}\n",
    "\n",
    "# Build the docker image locally with the image name and then push it to ECR\n",
    "# with the full name.\n",
    "\n",
    "docker build -t ${algorithm_name} -f Dockerfile.inference .\n",
    "docker tag ${algorithm_name} ${fullname}\n",
    "\n",
    "docker push ${fullname}"
   ]
  },
  {
   "cell_type": "code",
   "execution_count": 13,
   "id": "84497325",
   "metadata": {
    "tags": []
   },
   "outputs": [
    {
     "data": {
      "text/plain": [
       "'687912291502.dkr.ecr.us-west-2.amazonaws.com/sagemaker-llama2-13b-chinese-inference-demo:latest'"
      ]
     },
     "execution_count": 13,
     "metadata": {},
     "output_type": "execute_result"
    }
   ],
   "source": [
    "## The image uri which is build and pushed above\n",
    "inference_image_uri = \"{}.dkr.ecr.{}.amazonaws.com/{}:latest\".format(account_id, region, repo_name)\n",
    "inference_image_uri"
   ]
  },
  {
   "cell_type": "markdown",
   "id": "01e33506",
   "metadata": {},
   "source": [
    "## Deploying a Large Language Model using Hugging Face Accelerate\n",
    "The DJL Inference Image which we will be utilizing ships with a number of built-in inference handlers for a wide variety of tasks including:\n",
    "- `text-generation`\n",
    "- `question-answering`\n",
    "- `text-classification`\n",
    "- `token-classification`\n",
    "\n",
    "You can refer to this [GitRepo](https://github.com/deepjavalibrary/djl-serving/tree/master/engines/python/setup/djl_python) for a list of additional handlers and available NLP Tasks. <br>\n",
    "These handlers can be utilized as is without having to write any custom inference code. We simply need to create a `serving.properties` text file with our desired hosting options and package it up into a `tar.gz` artifact.\n",
    "\n",
    "Lets take a look at the `serving.properties` file that we'll be using for our first example"
   ]
  },
  {
   "cell_type": "code",
   "execution_count": 91,
   "id": "e3570119",
   "metadata": {
    "tags": []
   },
   "outputs": [
    {
     "name": "stdout",
     "output_type": "stream",
     "text": [
      "mkdir: cannot create directory ‘llama2-13b-chinese-accelerate_src’: File exists\n"
     ]
    }
   ],
   "source": [
    "!mkdir llama2-13b-chinese-accelerate_src"
   ]
  },
  {
   "cell_type": "code",
   "execution_count": 175,
   "id": "33c253cd",
   "metadata": {
    "tags": []
   },
   "outputs": [
    {
     "name": "stdout",
     "output_type": "stream",
     "text": [
      "Overwriting llama2-13b-chinese-accelerate_src/serving.properties\n"
     ]
    }
   ],
   "source": [
    "%%writefile llama2-13b-chinese-accelerate_src/serving.properties\n",
    "#engine=Python\n",
    "engine=DeepSpeed\n",
    "option.entryPoint=model.py\n",
    "option.tensor_parallel_degree=4\n",
    "#option.s3url={{ s3url }}\n",
    "option.model_id=TheBloke/Llama-2-13B-fp16\n",
    "#option.task=text-generation\n",
    "#option.device_map=auto\n",
    "option.load_in_8bit=TRUE"
   ]
  },
  {
   "cell_type": "markdown",
   "id": "e46cffa8",
   "metadata": {},
   "source": [
    "There are a few options specified here. Lets go through them in turn<br>\n",
    "1. `engine` - specifies the engine that will be used for this workload. In this case we'll be hosting a model using the [DJL Python Engine](https://github.com/deepjavalibrary/djl-serving/tree/master/engines/python)\n",
    "2. `option.entryPoint` - specifies the entrypoint code that will be used to host the model. djl_python.huggingface refers to the `huggingface.py` module from [djl_python repo](https://github.com/deepjavalibrary/djl-serving/tree/master/engines/python/setup/djl_python).  \n",
    "3. `option.s3url` - specifies the location of the model files. Alternativelly an `option.model_id` option can be used instead to specifiy a model from Hugging Face Hub (e.g. `EleutherAI/gpt-j-6B`) and the model will be automatically downloaded from the Hub. The s3url approach is recommended as it allows you to host the model artifact within your own environment and enables faster deployments by utilizing optimized approach within the DJL inference container to transfer the model from S3 into the hosting instance \n",
    "4. `option.task` - This is specific to the `huggingface.py` inference handler and specifies for which task this model will be used\n",
    "5. `option.device_map` - Enables layer-wise model partitioning through [Hugging Face Accelerate](https://huggingface.co/docs/accelerate/usage_guides/big_modeling#designing-a-device-map). With `option.device_map=auto`, Accelerate will determine where to put each **layer** to maximize the use of your fastest devices (GPUs) and offload the rest on the CPU, or even the hard drive if you don’t have enough GPU RAM (or CPU RAM). Even if the model is split across several devices, it will run as you would normally expect.\n",
    "6. `option.load_in_8bit` - Quantizes the model weights to int8 thereby greatly reducing the memory footprint of the model from the initial FP32. See this [blog post](https://huggingface.co/blog/hf-bitsandbytes-integration) from Hugging Face for additional information \n",
    "\n",
    "For more information on the available options, please refer to the [SageMaker Large Model Inference Documentation](https://docs.aws.amazon.com/sagemaker/latest/dg/realtime-endpoints-large-model-configuration.html)\n",
    "\n",
    "Our initial approach here is to utilize the built-in functionality within Hugging Face Transformers to enable Large Language Model hosting. "
   ]
  },
  {
   "cell_type": "code",
   "execution_count": 176,
   "id": "87923cef-0632-4d8a-b792-4627bf3a0203",
   "metadata": {
    "tags": []
   },
   "outputs": [
    {
     "name": "stdout",
     "output_type": "stream",
     "text": [
      "Overwriting llama2-13b-chinese-accelerate_src/requirements.txt\n"
     ]
    }
   ],
   "source": [
    "%%writefile llama2-13b-chinese-accelerate_src/requirements.txt\n",
    "protobuf==3.20\n",
    "accelerate>=0.21.0\n",
    "git+https://github.com/huggingface/peft.git\n",
    "xformers"
   ]
  },
  {
   "cell_type": "code",
   "execution_count": 177,
   "id": "97621866-2044-4f6e-b55e-fd90cb8693d7",
   "metadata": {
    "tags": []
   },
   "outputs": [
    {
     "name": "stdout",
     "output_type": "stream",
     "text": [
      "Overwriting llama2-13b-chinese-accelerate_src/model.py\n"
     ]
    }
   ],
   "source": [
    "%%writefile llama2-13b-chinese-accelerate_src/model.py\n",
    "# -*- coding: utf-8 -*-\n",
    "\n",
    "from djl_python import Input, Output\n",
    "import os\n",
    "import logging\n",
    "import math\n",
    "import deepspeed\n",
    "import torch\n",
    "import torch.distributed as dist\n",
    "import sys\n",
    "import subprocess\n",
    "import time\n",
    "import transformers\n",
    "from transformers import pipeline, AutoModelForCausalLM, AutoTokenizer\n",
    "from transformers.models.llama.tokenization_llama import LlamaTokenizer\n",
    "import time\n",
    "from peft import PeftModel\n",
    "from transformers import AutoModelForCausalLM, AutoTokenizer\n",
    "\n",
    "print(\"transformers version==\"+transformers.__version__)\n",
    "\n",
    "predictor = None\n",
    "\n",
    "\n",
    "\n",
    "def load_model(properties):\n",
    "    tensor_parallel = properties[\"tensor_parallel_degree\"]\n",
    "    model_location = properties['model_dir']\n",
    "    if \"model_id\" in properties:\n",
    "        model_location = properties['model_id']\n",
    "    #logging.info(f\"Loading model in {model_location}\")\n",
    "    \n",
    "    print(\"----------tensor parallel is {0}---------\".format(tensor_parallel))\n",
    "    \n",
    "    #model_location = \"EleutherAI/gpt-neo-2.7B\"\n",
    "    logging.info(f\"Loading model in {model_location}\")\n",
    "    print(f\"Loading model in {model_location}\")\n",
    "    model_name_or_path = model_location\n",
    "    adapter_name_or_path = 'shareAI/llama2-13b-Chinese-chat'\n",
    "    save_path = '/tmp/llama2-13b-Chinese-chat_v1'\n",
    "    \n",
    "    tokenizer = AutoTokenizer.from_pretrained(\n",
    "        model_name_or_path,\n",
    "        trust_remote_code=True\n",
    "    )\n",
    "    model = AutoModelForCausalLM.from_pretrained(\n",
    "        model_name_or_path,\n",
    "        trust_remote_code=True,\n",
    "        low_cpu_mem_usage=True,\n",
    "        torch_dtype=torch.float16,\n",
    "        #device_map='auto'\n",
    "    )\n",
    "    print(\"load model success\")\n",
    "    model = PeftModel.from_pretrained(model, adapter_name_or_path)\n",
    "    print(\"load adapter success\")\n",
    "    model = model.merge_and_unload()\n",
    "    print(\"merge success\")\n",
    "    \n",
    "    ### for deepspeed ####\n",
    "    model = deepspeed.init_inference(\n",
    "        model,\n",
    "        mp_size=tensor_parallel,\n",
    "        dtype=torch.half,\n",
    "        replace_method=\"auto\",\n",
    "        replace_with_kernel_inject=True,\n",
    "    )\n",
    "\n",
    "    local_rank = int(os.getenv(\"LOCAL_RANK\", \"0\"))\n",
    "    generator = pipeline(\n",
    "        task=\"text-generation\", model=model, tokenizer=tokenizer, device=local_rank, use_cache=True\n",
    "    )\n",
    "    #model.requires_grad_(False)\n",
    "    #model.eval()\n",
    "    print(\"模型加载成功！\")\n",
    "    ### for accelerate ####\n",
    "    #generator = pipeline(\n",
    "    #    task=\"text-generation\", model=model, tokenizer=tokenizer, device_map=\"auto\", use_cache=True\n",
    "    #)\n",
    "    #generator.tokenizer.pad_token_id = model.config.eos_token_id\n",
    "    return generator, model, tokenizer\n",
    "\n",
    "\n",
    "def handle(inputs: Input) -> None:\n",
    "    global predictor, model, tokenizer\n",
    "    try:\n",
    "        if not predictor:\n",
    "            predictor,model,tokenizer = load_model(inputs.get_properties())\n",
    "\n",
    "        print(inputs)\n",
    "        if inputs.is_empty():\n",
    "            # Model server makes an empty call to warmup the model on startup\n",
    "            return None\n",
    "        \n",
    "        inputs = inputs.get_as_json()\n",
    "        if not inputs.get(\"inputs\"):\n",
    "            return Output().add_as_json({\"code\":-1,\"msg\":\"input field can't be null\"})\n",
    "\n",
    "\n",
    "        #input data\n",
    "        data = inputs.get(\"inputs\")\n",
    "        params = inputs.get(\"parameters\",{})\n",
    "        print(params)\n",
    "        \n",
    "        user_input = '{}</s>'.format(data)\n",
    "        user_input_ids = tokenizer(user_input, return_tensors=\"pt\", add_special_tokens=False).input_ids\n",
    "        model_input_ids = user_input_ids.to(\"cuda\")\n",
    "        with torch.no_grad():\n",
    "          outputs = model.generate(\n",
    "                input_ids=model_input_ids, max_new_tokens=params[\"max_new_tokens\"], do_sample=False, top_p=params[\"top_p\"],\n",
    "                temperature=params[\"temperature\"], repetition_penalty=params[\"repetition_penalty\"], eos_token_id=tokenizer.eos_token_id\n",
    "          )\n",
    "        model_input_ids_len = model_input_ids.size(1)\n",
    "        response_ids = outputs[:, model_input_ids_len:]\n",
    "        response = tokenizer.batch_decode(response_ids)\n",
    "        print(\"Bot：\" + response[0].strip().replace('</s>', \"\"))\n",
    "    except Exception as e:\n",
    "        return Output().add_as_json({\"code\":-1,\"msg\":e})"
   ]
  },
  {
   "cell_type": "markdown",
   "id": "d156470a",
   "metadata": {},
   "source": [
    "We place the `serving.properties` file into a tarball and upload it to S3"
   ]
  },
  {
   "cell_type": "code",
   "execution_count": 178,
   "id": "12371518",
   "metadata": {
    "tags": []
   },
   "outputs": [
    {
     "name": "stdout",
     "output_type": "stream",
     "text": [
      "llama2-13b-chinese-accelerate_src/\n",
      "llama2-13b-chinese-accelerate_src/.ipynb_checkpoints/\n",
      "llama2-13b-chinese-accelerate_src/.ipynb_checkpoints/serving-checkpoint.properties\n",
      "llama2-13b-chinese-accelerate_src/model.py\n",
      "llama2-13b-chinese-accelerate_src/serving.properties\n",
      "llama2-13b-chinese-accelerate_src/requirements.txt\n"
     ]
    }
   ],
   "source": [
    "!tar czvf acc_model.tar.gz llama2-13b-chinese-accelerate_src/ "
   ]
  },
  {
   "cell_type": "code",
   "execution_count": 179,
   "id": "3098668f",
   "metadata": {
    "tags": []
   },
   "outputs": [
    {
     "name": "stdout",
     "output_type": "stream",
     "text": [
      "S3 Code or Model tar ball uploaded to --- > s3://sagemaker-us-west-2-687912291502/llama2-13b-chinese/deploy/code/acc_model.tar.gz\n"
     ]
    }
   ],
   "source": [
    "s3_code_prefix = \"llama2-13b-chinese/deploy/code\"\n",
    "\n",
    "code_artifact = sess.upload_data(\"acc_model.tar.gz\", bucket, s3_code_prefix)\n",
    "print(f\"S3 Code or Model tar ball uploaded to --- > {code_artifact}\")"
   ]
  },
  {
   "cell_type": "markdown",
   "id": "e0807c58",
   "metadata": {},
   "source": [
    "## Deploy Model to a SageMaker Endpoint\n",
    "With a helper function we can now deploy our endpoint and invoke it with some sample inputs"
   ]
  },
  {
   "cell_type": "code",
   "execution_count": 180,
   "id": "20917372",
   "metadata": {
    "tags": []
   },
   "outputs": [
    {
     "name": "stdout",
     "output_type": "stream",
     "text": [
      "llama2-13b-chinese-chat\n",
      "Image going to be used is ---- > 687912291502.dkr.ecr.us-west-2.amazonaws.com/sagemaker-llama2-13b-chinese-inference-demo:latest\n",
      "Created Model: arn:aws:sagemaker:us-west-2:687912291502:model/llama2-13b-chinese-chat\n"
     ]
    }
   ],
   "source": [
    "from sagemaker.utils import name_from_base\n",
    "import boto3\n",
    "\n",
    "model_name=\"llama2-13b-chinese-chat\"\n",
    "print(model_name)\n",
    "print(f\"Image going to be used is ---- > {inference_image_uri}\")\n",
    "\n",
    "create_model_response = sm_client.create_model(\n",
    "    ModelName=model_name,\n",
    "    ExecutionRoleArn=role,\n",
    "    PrimaryContainer={\n",
    "        \"Image\": inference_image_uri,\n",
    "        \"ModelDataUrl\": code_artifact\n",
    "    },\n",
    "    \n",
    ")\n",
    "model_arn = create_model_response[\"ModelArn\"]\n",
    "\n",
    "print(f\"Created Model: {model_arn}\")"
   ]
  },
  {
   "cell_type": "code",
   "execution_count": 181,
   "id": "f471fd0c-15f4-48cc-840e-4ce155362ce9",
   "metadata": {
    "tags": []
   },
   "outputs": [
    {
     "data": {
      "text/plain": [
       "{'EndpointConfigArn': 'arn:aws:sagemaker:us-west-2:687912291502:endpoint-config/llama2-13b-chinese-chat-config',\n",
       " 'ResponseMetadata': {'RequestId': '74ecec12-5c19-4bf4-bf74-125f9fda4c44',\n",
       "  'HTTPStatusCode': 200,\n",
       "  'HTTPHeaders': {'x-amzn-requestid': '74ecec12-5c19-4bf4-bf74-125f9fda4c44',\n",
       "   'content-type': 'application/x-amz-json-1.1',\n",
       "   'content-length': '111',\n",
       "   'date': 'Sat, 19 Aug 2023 08:11:48 GMT'},\n",
       "  'RetryAttempts': 0}}"
      ]
     },
     "execution_count": 181,
     "metadata": {},
     "output_type": "execute_result"
    }
   ],
   "source": [
    "\n",
    "endpoint_config_name = f\"{model_name}-config\"\n",
    "endpoint_name = f\"{model_name}-endpoint\"\n",
    "\n",
    "endpoint_config_response = sm_client.create_endpoint_config(\n",
    "    EndpointConfigName=endpoint_config_name,\n",
    "    ProductionVariants=[\n",
    "        {\n",
    "            \"VariantName\": \"variant1\",\n",
    "            \"ModelName\": model_name,\n",
    "            \"InstanceType\": \"ml.g5.24xlarge\",\n",
    "            \"InitialInstanceCount\": 1,\n",
    "            #\"VolumeSizeInGB\" : 400,\n",
    "            \"ModelDataDownloadTimeoutInSeconds\": 2400,\n",
    "            \"ContainerStartupHealthCheckTimeoutInSeconds\": 15*60,\n",
    "        },\n",
    "    ],\n",
    ")\n",
    "endpoint_config_response"
   ]
  },
  {
   "cell_type": "code",
   "execution_count": 182,
   "id": "f48fe9cc-ba30-4135-ab1f-7f5cc50bb79f",
   "metadata": {
    "tags": []
   },
   "outputs": [
    {
     "name": "stdout",
     "output_type": "stream",
     "text": [
      "Created Endpoint: arn:aws:sagemaker:us-west-2:687912291502:endpoint/llama2-13b-chinese-chat-endpoint\n"
     ]
    }
   ],
   "source": [
    "create_endpoint_response = sm_client.create_endpoint(\n",
    "    EndpointName=f\"{endpoint_name}\", EndpointConfigName=endpoint_config_name\n",
    ")\n",
    "print(f\"Created Endpoint: {create_endpoint_response['EndpointArn']}\")"
   ]
  },
  {
   "cell_type": "code",
   "execution_count": 183,
   "id": "ca6e3577-f5dd-4b87-8d9f-a2434c92a952",
   "metadata": {
    "tags": []
   },
   "outputs": [
    {
     "name": "stdout",
     "output_type": "stream",
     "text": [
      "Status: Creating\n",
      "Status: Creating\n",
      "Status: Creating\n",
      "Status: Creating\n",
      "Status: Creating\n",
      "Status: Creating\n",
      "Status: Creating\n",
      "Status: Creating\n",
      "Status: Creating\n",
      "Status: Creating\n",
      "Status: Creating\n",
      "Status: Creating\n",
      "Status: Creating\n",
      "Status: Creating\n",
      "Status: Creating\n",
      "Status: Creating\n",
      "Status: InService\n",
      "Arn: arn:aws:sagemaker:us-west-2:687912291502:endpoint/llama2-13b-chinese-chat-endpoint\n",
      "Status: InService\n"
     ]
    }
   ],
   "source": [
    "import time\n",
    "\n",
    "resp = sm_client.describe_endpoint(EndpointName=endpoint_name)\n",
    "status = resp[\"EndpointStatus\"]\n",
    "print(\"Status: \" + status)\n",
    "\n",
    "while status == \"Creating\":\n",
    "    time.sleep(60)\n",
    "    resp = sm_client.describe_endpoint(EndpointName=endpoint_name)\n",
    "    status = resp[\"EndpointStatus\"]\n",
    "    print(\"Status: \" + status)\n",
    "\n",
    "print(\"Arn: \" + resp[\"EndpointArn\"])\n",
    "print(\"Status: \" + status)"
   ]
  },
  {
   "cell_type": "markdown",
   "id": "b3c19a0c",
   "metadata": {},
   "source": [
    "Let's run an example with a basic text generation prompt Large model inference is"
   ]
  },
  {
   "cell_type": "code",
   "execution_count": 184,
   "id": "43611bc8",
   "metadata": {
    "tags": []
   },
   "outputs": [
    {
     "name": "stdout",
     "output_type": "stream",
     "text": [
      "\n"
     ]
    }
   ],
   "source": [
    "import boto3\n",
    "import json\n",
    "import uuid\n",
    "prompt_prefix = \"你正在一个聊天室里和不同国家的人们聊天，你能读懂所有国家的语言，你负责通过聊天记录分析所有聊天者的性格和有效信息，具体步骤如下：\\\n",
    "1.阅读他们的聊天记录 \\\n",
    "2.总结他们聊天里面的重要信息 \\\n",
    "3.抽象他们的人设 \\\n",
    "4.使用评分体系抽象他们之间的人际关系，然后给一个评分，范围1-10分，分越高关系越好 \\\n",
    "聊天信息如下: \" \n",
    "\n",
    "chats_infos = \"\"\"\n",
    "WaRGazmo : \"you lucked out there buddy\" \n",
    "WarLord : \"suerte? eso no existe \" \n",
    "WarLord : \"soy más rápido que la luz \" \n",
    "WaRGazmo : \"it exists.. or karma\" \n",
    "DirtyE1bow : \"so you was a planned birth ?\" \n",
    "WaRGazmo : \"thats what she said bruh\" \n",
    "WarLord : \"te amo mi amor \" \n",
    "Manowarik : \"Мир вам,люди добрые..\" \n",
    "kotofei : \"и тебе боярин, что не подался в челядь королю)\" \n",
    "XxNORxXMithra : \"God morgen folkens :) \" \n",
    "kotofei : \"и прочие жители галактики \" \n",
    "XxNORxXMithra : \"Ja de også forsåvidt :) \" \n",
    "Manowarik : \"Котофей-это который по цепи кругом?Песни там,сказки?😆😆\" \n",
    "kotofei : \"не, то дальний убогий родственник \" \n",
    "Manowarik : \"Эххх..Лукоморье мимо..((\" \n",
    "kipl : \"Котофей он из сказки Лиса и Котофей Иванович. \" \n",
    "kipl : \"Межвидовой брак и крышевание леса\" \n",
    "kotofei : \"лиса 🦊 мералиса и Котофей Иваныч \" \n",
    "leister : \"😆\" \n",
    "XxFoxyQBAxX : \"po co tyle zrobiłeś?\"\n",
    "\"\"\"\n",
    "client = boto3.client('sagemaker-runtime')\n",
    "endpoint_name = 'llama2-13b-chinese-chat-endpoint'\n",
    "parameters = {\n",
    "  \"max_length\": 2048,\n",
    "  \"temperature\": 1,\n",
    "  \"max_new_tokens\":500,\n",
    "  \"repetition_penalty\": 0.8,\n",
    "  \"top_p\":0.8\n",
    "}\n",
    "\n",
    "response_model = client.invoke_endpoint(\n",
    "            EndpointName=endpoint_name,\n",
    "            Body=json.dumps(\n",
    "            {\n",
    "                \"inputs\": prompt_prefix+chats_infos,\n",
    "                #\"inputs\": \"你好\",\n",
    "                \"parameters\": parameters,\n",
    "            }\n",
    "            ),\n",
    "            ContentType=\"application/json\",\n",
    "        )\n",
    "\n",
    "print(response_model['Body'].read().decode('utf8'))\n",
    "\n",
    "#payload = '{\"inputs\" : , \\\n",
    "#            \"parameters\": { \"max_length\": 200, \"temperature\": 0.6 }  \\\n",
    "#           }'\n",
    "#encoded_inp = (payload).encode(\"utf-8\")\n",
    "#response = client.invoke_endpoint(\n",
    "#        EndpointName=endpoint_name,\n",
    "#        ContentType='application/json',\n",
    "#        Accept='application/json',\n",
    "#        Body=payload\n",
    "#)\n"
   ]
  },
  {
   "cell_type": "code",
   "execution_count": null,
   "id": "a2da0c7d",
   "metadata": {},
   "outputs": [],
   "source": [
    "# Clean up the endpoint before proceeding\n",
    "predictor.delete_endpoint()"
   ]
  },
  {
   "cell_type": "markdown",
   "id": "7377c84c",
   "metadata": {},
   "source": [
    "## Reference"
   ]
  },
  {
   "cell_type": "markdown",
   "id": "d1a842b9",
   "metadata": {},
   "source": [
    "[sagemaker-hosting/Large-Language-Model-Hosting/](https://github.com/aws-samples/sagemaker-hosting/tree/main/Large-Language-Model-Hosting)"
   ]
  }
 ],
 "metadata": {
  "kernelspec": {
   "display_name": "conda_amazonei_pytorch_latest_p37",
   "language": "python",
   "name": "conda_amazonei_pytorch_latest_p37"
  },
  "language_info": {
   "codemirror_mode": {
    "name": "ipython",
    "version": 3
   },
   "file_extension": ".py",
   "mimetype": "text/x-python",
   "name": "python",
   "nbconvert_exporter": "python",
   "pygments_lexer": "ipython3",
   "version": "3.7.10"
  }
 },
 "nbformat": 4,
 "nbformat_minor": 5
}
